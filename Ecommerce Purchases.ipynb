{
 "cells": [
  {
   "cell_type": "markdown",
   "id": "c15f31aa-d7f9-4395-870c-0efa42f70c04",
   "metadata": {},
   "source": []
  },
  {
   "cell_type": "code",
   "execution_count": 2,
   "id": "554e3b03-fd56-4e7e-b9b5-bc29de17e20c",
   "metadata": {},
   "outputs": [],
   "source": [
    "## Importing Modules\n",
    "import pandas as pd"
   ]
  },
  {
   "cell_type": "code",
   "execution_count": 3,
   "id": "58428633-7dc4-4d77-a2b1-0fd1c2582fce",
   "metadata": {},
   "outputs": [
    {
     "data": {
      "text/html": [
       "<div>\n",
       "<style scoped>\n",
       "    .dataframe tbody tr th:only-of-type {\n",
       "        vertical-align: middle;\n",
       "    }\n",
       "\n",
       "    .dataframe tbody tr th {\n",
       "        vertical-align: top;\n",
       "    }\n",
       "\n",
       "    .dataframe thead th {\n",
       "        text-align: right;\n",
       "    }\n",
       "</style>\n",
       "<table border=\"1\" class=\"dataframe\">\n",
       "  <thead>\n",
       "    <tr style=\"text-align: right;\">\n",
       "      <th></th>\n",
       "      <th>Address</th>\n",
       "      <th>Lot</th>\n",
       "      <th>AM or PM</th>\n",
       "      <th>Browser Info</th>\n",
       "      <th>Company</th>\n",
       "      <th>Credit Card</th>\n",
       "      <th>CC Exp Date</th>\n",
       "      <th>CC Security Code</th>\n",
       "      <th>CC Provider</th>\n",
       "      <th>Email</th>\n",
       "      <th>Job</th>\n",
       "      <th>IP Address</th>\n",
       "      <th>Language</th>\n",
       "      <th>Purchase Price</th>\n",
       "    </tr>\n",
       "  </thead>\n",
       "  <tbody>\n",
       "    <tr>\n",
       "      <th>0</th>\n",
       "      <td>16629 Pace Camp Apt. 448\\nAlexisborough, NE 77...</td>\n",
       "      <td>46 in</td>\n",
       "      <td>PM</td>\n",
       "      <td>Opera/9.56.(X11; Linux x86_64; sl-SI) Presto/2...</td>\n",
       "      <td>Martinez-Herman</td>\n",
       "      <td>6011929061123406</td>\n",
       "      <td>02/20</td>\n",
       "      <td>900</td>\n",
       "      <td>JCB 16 digit</td>\n",
       "      <td>pdunlap@yahoo.com</td>\n",
       "      <td>Scientist, product/process development</td>\n",
       "      <td>149.146.147.205</td>\n",
       "      <td>el</td>\n",
       "      <td>98.14</td>\n",
       "    </tr>\n",
       "    <tr>\n",
       "      <th>1</th>\n",
       "      <td>9374 Jasmine Spurs Suite 508\\nSouth John, TN 8...</td>\n",
       "      <td>28 rn</td>\n",
       "      <td>PM</td>\n",
       "      <td>Opera/8.93.(Windows 98; Win 9x 4.90; en-US) Pr...</td>\n",
       "      <td>Fletcher, Richards and Whitaker</td>\n",
       "      <td>3337758169645356</td>\n",
       "      <td>11/18</td>\n",
       "      <td>561</td>\n",
       "      <td>Mastercard</td>\n",
       "      <td>anthony41@reed.com</td>\n",
       "      <td>Drilling engineer</td>\n",
       "      <td>15.160.41.51</td>\n",
       "      <td>fr</td>\n",
       "      <td>70.73</td>\n",
       "    </tr>\n",
       "    <tr>\n",
       "      <th>2</th>\n",
       "      <td>Unit 0065 Box 5052\\nDPO AP 27450</td>\n",
       "      <td>94 vE</td>\n",
       "      <td>PM</td>\n",
       "      <td>Mozilla/5.0 (compatible; MSIE 9.0; Windows NT ...</td>\n",
       "      <td>Simpson, Williams and Pham</td>\n",
       "      <td>675957666125</td>\n",
       "      <td>08/19</td>\n",
       "      <td>699</td>\n",
       "      <td>JCB 16 digit</td>\n",
       "      <td>amymiller@morales-harrison.com</td>\n",
       "      <td>Customer service manager</td>\n",
       "      <td>132.207.160.22</td>\n",
       "      <td>de</td>\n",
       "      <td>0.95</td>\n",
       "    </tr>\n",
       "    <tr>\n",
       "      <th>3</th>\n",
       "      <td>7780 Julia Fords\\nNew Stacy, WA 45798</td>\n",
       "      <td>36 vm</td>\n",
       "      <td>PM</td>\n",
       "      <td>Mozilla/5.0 (Macintosh; Intel Mac OS X 10_8_0 ...</td>\n",
       "      <td>Williams, Marshall and Buchanan</td>\n",
       "      <td>6011578504430710</td>\n",
       "      <td>02/24</td>\n",
       "      <td>384</td>\n",
       "      <td>Discover</td>\n",
       "      <td>brent16@olson-robinson.info</td>\n",
       "      <td>Drilling engineer</td>\n",
       "      <td>30.250.74.19</td>\n",
       "      <td>es</td>\n",
       "      <td>78.04</td>\n",
       "    </tr>\n",
       "    <tr>\n",
       "      <th>4</th>\n",
       "      <td>23012 Munoz Drive Suite 337\\nNew Cynthia, TX 5...</td>\n",
       "      <td>20 IE</td>\n",
       "      <td>AM</td>\n",
       "      <td>Opera/9.58.(X11; Linux x86_64; it-IT) Presto/2...</td>\n",
       "      <td>Brown, Watson and Andrews</td>\n",
       "      <td>6011456623207998</td>\n",
       "      <td>10/25</td>\n",
       "      <td>678</td>\n",
       "      <td>Diners Club / Carte Blanche</td>\n",
       "      <td>christopherwright@gmail.com</td>\n",
       "      <td>Fine artist</td>\n",
       "      <td>24.140.33.94</td>\n",
       "      <td>es</td>\n",
       "      <td>77.82</td>\n",
       "    </tr>\n",
       "    <tr>\n",
       "      <th>...</th>\n",
       "      <td>...</td>\n",
       "      <td>...</td>\n",
       "      <td>...</td>\n",
       "      <td>...</td>\n",
       "      <td>...</td>\n",
       "      <td>...</td>\n",
       "      <td>...</td>\n",
       "      <td>...</td>\n",
       "      <td>...</td>\n",
       "      <td>...</td>\n",
       "      <td>...</td>\n",
       "      <td>...</td>\n",
       "      <td>...</td>\n",
       "      <td>...</td>\n",
       "    </tr>\n",
       "    <tr>\n",
       "      <th>3807</th>\n",
       "      <td>48419 James Villages\\nCharlesside, MN 05281</td>\n",
       "      <td>16 Od</td>\n",
       "      <td>PM</td>\n",
       "      <td>Mozilla/5.0 (iPod; U; CPU iPhone OS 3_0 like M...</td>\n",
       "      <td>Gray Group</td>\n",
       "      <td>3158950215096082</td>\n",
       "      <td>02/17</td>\n",
       "      <td>42</td>\n",
       "      <td>American Express</td>\n",
       "      <td>conniemyers@dixon-hoover.biz</td>\n",
       "      <td>Plant breeder/geneticist</td>\n",
       "      <td>185.183.203.158</td>\n",
       "      <td>es</td>\n",
       "      <td>70.32</td>\n",
       "    </tr>\n",
       "    <tr>\n",
       "      <th>3808</th>\n",
       "      <td>41420 Morgan Square\\nNew Sylviaton, NH 91906</td>\n",
       "      <td>04 lg</td>\n",
       "      <td>AM</td>\n",
       "      <td>Mozilla/5.0 (iPod; U; CPU iPhone OS 4_3 like M...</td>\n",
       "      <td>Sanchez-Pugh</td>\n",
       "      <td>30144466817368</td>\n",
       "      <td>02/24</td>\n",
       "      <td>660</td>\n",
       "      <td>Maestro</td>\n",
       "      <td>bradleywilliam@pineda-buchanan.com</td>\n",
       "      <td>Environmental health practitioner</td>\n",
       "      <td>20.125.230.98</td>\n",
       "      <td>pt</td>\n",
       "      <td>8.30</td>\n",
       "    </tr>\n",
       "    <tr>\n",
       "      <th>3809</th>\n",
       "      <td>308 Dixon Fords Suite 923\\nNicoleton, MH 45145</td>\n",
       "      <td>52 YN</td>\n",
       "      <td>AM</td>\n",
       "      <td>Mozilla/5.0 (Macintosh; Intel Mac OS X 10_7_8)...</td>\n",
       "      <td>Graham, Walker and Frazier</td>\n",
       "      <td>869929666344262</td>\n",
       "      <td>04/24</td>\n",
       "      <td>262</td>\n",
       "      <td>JCB 16 digit</td>\n",
       "      <td>laurengill@hotmail.com</td>\n",
       "      <td>Hotel manager</td>\n",
       "      <td>206.199.193.146</td>\n",
       "      <td>fr</td>\n",
       "      <td>3.73</td>\n",
       "    </tr>\n",
       "    <tr>\n",
       "      <th>3810</th>\n",
       "      <td>7016 Richard Center Apt. 216\\nNew Paulburgh, C...</td>\n",
       "      <td>53 WU</td>\n",
       "      <td>AM</td>\n",
       "      <td>Mozilla/5.0 (Macintosh; PPC Mac OS X 10_8_4; r...</td>\n",
       "      <td>Kim, Harris and Lee</td>\n",
       "      <td>3528700667851234</td>\n",
       "      <td>11/18</td>\n",
       "      <td>435</td>\n",
       "      <td>American Express</td>\n",
       "      <td>balljessica@yahoo.com</td>\n",
       "      <td>Engineer, communications</td>\n",
       "      <td>33.68.160.144</td>\n",
       "      <td>zh</td>\n",
       "      <td>49.73</td>\n",
       "    </tr>\n",
       "    <tr>\n",
       "      <th>3811</th>\n",
       "      <td>625 Mclaughlin Inlet Apt. 375\\nSouth Ruben, CO...</td>\n",
       "      <td>94 he</td>\n",
       "      <td>PM</td>\n",
       "      <td>Mozilla/5.0 (compatible; MSIE 9.0; Windows CE;...</td>\n",
       "      <td>Banks Group</td>\n",
       "      <td>869974335345498</td>\n",
       "      <td>01/22</td>\n",
       "      <td>457</td>\n",
       "      <td>Voyager</td>\n",
       "      <td>simmonsmelanie@gmail.com</td>\n",
       "      <td>Multimedia specialist</td>\n",
       "      <td>88.14.181.</td>\n",
       "      <td>NaN</td>\n",
       "      <td>NaN</td>\n",
       "    </tr>\n",
       "  </tbody>\n",
       "</table>\n",
       "<p>3812 rows × 14 columns</p>\n",
       "</div>"
      ],
      "text/plain": [
       "                                                Address    Lot AM or PM  \\\n",
       "0     16629 Pace Camp Apt. 448\\nAlexisborough, NE 77...  46 in       PM   \n",
       "1     9374 Jasmine Spurs Suite 508\\nSouth John, TN 8...  28 rn       PM   \n",
       "2                      Unit 0065 Box 5052\\nDPO AP 27450  94 vE       PM   \n",
       "3                 7780 Julia Fords\\nNew Stacy, WA 45798  36 vm       PM   \n",
       "4     23012 Munoz Drive Suite 337\\nNew Cynthia, TX 5...  20 IE       AM   \n",
       "...                                                 ...    ...      ...   \n",
       "3807        48419 James Villages\\nCharlesside, MN 05281  16 Od       PM   \n",
       "3808       41420 Morgan Square\\nNew Sylviaton, NH 91906  04 lg       AM   \n",
       "3809     308 Dixon Fords Suite 923\\nNicoleton, MH 45145  52 YN       AM   \n",
       "3810  7016 Richard Center Apt. 216\\nNew Paulburgh, C...  53 WU       AM   \n",
       "3811  625 Mclaughlin Inlet Apt. 375\\nSouth Ruben, CO...  94 he       PM   \n",
       "\n",
       "                                           Browser Info  \\\n",
       "0     Opera/9.56.(X11; Linux x86_64; sl-SI) Presto/2...   \n",
       "1     Opera/8.93.(Windows 98; Win 9x 4.90; en-US) Pr...   \n",
       "2     Mozilla/5.0 (compatible; MSIE 9.0; Windows NT ...   \n",
       "3     Mozilla/5.0 (Macintosh; Intel Mac OS X 10_8_0 ...   \n",
       "4     Opera/9.58.(X11; Linux x86_64; it-IT) Presto/2...   \n",
       "...                                                 ...   \n",
       "3807  Mozilla/5.0 (iPod; U; CPU iPhone OS 3_0 like M...   \n",
       "3808  Mozilla/5.0 (iPod; U; CPU iPhone OS 4_3 like M...   \n",
       "3809  Mozilla/5.0 (Macintosh; Intel Mac OS X 10_7_8)...   \n",
       "3810  Mozilla/5.0 (Macintosh; PPC Mac OS X 10_8_4; r...   \n",
       "3811  Mozilla/5.0 (compatible; MSIE 9.0; Windows CE;...   \n",
       "\n",
       "                              Company       Credit Card CC Exp Date  \\\n",
       "0                     Martinez-Herman  6011929061123406       02/20   \n",
       "1     Fletcher, Richards and Whitaker  3337758169645356       11/18   \n",
       "2          Simpson, Williams and Pham      675957666125       08/19   \n",
       "3     Williams, Marshall and Buchanan  6011578504430710       02/24   \n",
       "4           Brown, Watson and Andrews  6011456623207998       10/25   \n",
       "...                               ...               ...         ...   \n",
       "3807                       Gray Group  3158950215096082       02/17   \n",
       "3808                     Sanchez-Pugh    30144466817368       02/24   \n",
       "3809       Graham, Walker and Frazier   869929666344262       04/24   \n",
       "3810              Kim, Harris and Lee  3528700667851234       11/18   \n",
       "3811                      Banks Group   869974335345498       01/22   \n",
       "\n",
       "      CC Security Code                  CC Provider  \\\n",
       "0                  900                 JCB 16 digit   \n",
       "1                  561                   Mastercard   \n",
       "2                  699                 JCB 16 digit   \n",
       "3                  384                     Discover   \n",
       "4                  678  Diners Club / Carte Blanche   \n",
       "...                ...                          ...   \n",
       "3807                42             American Express   \n",
       "3808               660                      Maestro   \n",
       "3809               262                 JCB 16 digit   \n",
       "3810               435             American Express   \n",
       "3811               457                      Voyager   \n",
       "\n",
       "                                   Email  \\\n",
       "0                      pdunlap@yahoo.com   \n",
       "1                     anthony41@reed.com   \n",
       "2         amymiller@morales-harrison.com   \n",
       "3            brent16@olson-robinson.info   \n",
       "4            christopherwright@gmail.com   \n",
       "...                                  ...   \n",
       "3807        conniemyers@dixon-hoover.biz   \n",
       "3808  bradleywilliam@pineda-buchanan.com   \n",
       "3809              laurengill@hotmail.com   \n",
       "3810               balljessica@yahoo.com   \n",
       "3811            simmonsmelanie@gmail.com   \n",
       "\n",
       "                                         Job       IP Address Language  \\\n",
       "0     Scientist, product/process development  149.146.147.205       el   \n",
       "1                          Drilling engineer     15.160.41.51       fr   \n",
       "2                   Customer service manager   132.207.160.22       de   \n",
       "3                          Drilling engineer     30.250.74.19       es   \n",
       "4                                Fine artist     24.140.33.94       es   \n",
       "...                                      ...              ...      ...   \n",
       "3807                Plant breeder/geneticist  185.183.203.158       es   \n",
       "3808       Environmental health practitioner    20.125.230.98       pt   \n",
       "3809                           Hotel manager  206.199.193.146       fr   \n",
       "3810                Engineer, communications    33.68.160.144       zh   \n",
       "3811                   Multimedia specialist       88.14.181.      NaN   \n",
       "\n",
       "      Purchase Price  \n",
       "0              98.14  \n",
       "1              70.73  \n",
       "2               0.95  \n",
       "3              78.04  \n",
       "4              77.82  \n",
       "...              ...  \n",
       "3807           70.32  \n",
       "3808            8.30  \n",
       "3809            3.73  \n",
       "3810           49.73  \n",
       "3811             NaN  \n",
       "\n",
       "[3812 rows x 14 columns]"
      ]
     },
     "execution_count": 3,
     "metadata": {},
     "output_type": "execute_result"
    }
   ],
   "source": [
    "ecom = pd.read_csv('Ecommerce Purchases')\n",
    "ecom"
   ]
  },
  {
   "cell_type": "markdown",
   "id": "719e47f5-0231-4123-96b4-c8b4d25c08d2",
   "metadata": {},
   "source": [
    "Display Top 10 Rows of the Dataset"
   ]
  },
  {
   "cell_type": "code",
   "execution_count": 9,
   "id": "3898672c-2cd2-4375-9e1f-35a836982311",
   "metadata": {},
   "outputs": [
    {
     "data": {
      "text/html": [
       "<div>\n",
       "<style scoped>\n",
       "    .dataframe tbody tr th:only-of-type {\n",
       "        vertical-align: middle;\n",
       "    }\n",
       "\n",
       "    .dataframe tbody tr th {\n",
       "        vertical-align: top;\n",
       "    }\n",
       "\n",
       "    .dataframe thead th {\n",
       "        text-align: right;\n",
       "    }\n",
       "</style>\n",
       "<table border=\"1\" class=\"dataframe\">\n",
       "  <thead>\n",
       "    <tr style=\"text-align: right;\">\n",
       "      <th></th>\n",
       "      <th>Address</th>\n",
       "      <th>Lot</th>\n",
       "      <th>AM or PM</th>\n",
       "      <th>Browser Info</th>\n",
       "      <th>Company</th>\n",
       "      <th>Credit Card</th>\n",
       "      <th>CC Exp Date</th>\n",
       "      <th>CC Security Code</th>\n",
       "      <th>CC Provider</th>\n",
       "      <th>Email</th>\n",
       "      <th>Job</th>\n",
       "      <th>IP Address</th>\n",
       "      <th>Language</th>\n",
       "      <th>Purchase Price</th>\n",
       "    </tr>\n",
       "  </thead>\n",
       "  <tbody>\n",
       "    <tr>\n",
       "      <th>0</th>\n",
       "      <td>16629 Pace Camp Apt. 448\\nAlexisborough, NE 77...</td>\n",
       "      <td>46 in</td>\n",
       "      <td>PM</td>\n",
       "      <td>Opera/9.56.(X11; Linux x86_64; sl-SI) Presto/2...</td>\n",
       "      <td>Martinez-Herman</td>\n",
       "      <td>6011929061123406</td>\n",
       "      <td>02/20</td>\n",
       "      <td>900</td>\n",
       "      <td>JCB 16 digit</td>\n",
       "      <td>pdunlap@yahoo.com</td>\n",
       "      <td>Scientist, product/process development</td>\n",
       "      <td>149.146.147.205</td>\n",
       "      <td>el</td>\n",
       "      <td>98.14</td>\n",
       "    </tr>\n",
       "    <tr>\n",
       "      <th>1</th>\n",
       "      <td>9374 Jasmine Spurs Suite 508\\nSouth John, TN 8...</td>\n",
       "      <td>28 rn</td>\n",
       "      <td>PM</td>\n",
       "      <td>Opera/8.93.(Windows 98; Win 9x 4.90; en-US) Pr...</td>\n",
       "      <td>Fletcher, Richards and Whitaker</td>\n",
       "      <td>3337758169645356</td>\n",
       "      <td>11/18</td>\n",
       "      <td>561</td>\n",
       "      <td>Mastercard</td>\n",
       "      <td>anthony41@reed.com</td>\n",
       "      <td>Drilling engineer</td>\n",
       "      <td>15.160.41.51</td>\n",
       "      <td>fr</td>\n",
       "      <td>70.73</td>\n",
       "    </tr>\n",
       "    <tr>\n",
       "      <th>2</th>\n",
       "      <td>Unit 0065 Box 5052\\nDPO AP 27450</td>\n",
       "      <td>94 vE</td>\n",
       "      <td>PM</td>\n",
       "      <td>Mozilla/5.0 (compatible; MSIE 9.0; Windows NT ...</td>\n",
       "      <td>Simpson, Williams and Pham</td>\n",
       "      <td>675957666125</td>\n",
       "      <td>08/19</td>\n",
       "      <td>699</td>\n",
       "      <td>JCB 16 digit</td>\n",
       "      <td>amymiller@morales-harrison.com</td>\n",
       "      <td>Customer service manager</td>\n",
       "      <td>132.207.160.22</td>\n",
       "      <td>de</td>\n",
       "      <td>0.95</td>\n",
       "    </tr>\n",
       "    <tr>\n",
       "      <th>3</th>\n",
       "      <td>7780 Julia Fords\\nNew Stacy, WA 45798</td>\n",
       "      <td>36 vm</td>\n",
       "      <td>PM</td>\n",
       "      <td>Mozilla/5.0 (Macintosh; Intel Mac OS X 10_8_0 ...</td>\n",
       "      <td>Williams, Marshall and Buchanan</td>\n",
       "      <td>6011578504430710</td>\n",
       "      <td>02/24</td>\n",
       "      <td>384</td>\n",
       "      <td>Discover</td>\n",
       "      <td>brent16@olson-robinson.info</td>\n",
       "      <td>Drilling engineer</td>\n",
       "      <td>30.250.74.19</td>\n",
       "      <td>es</td>\n",
       "      <td>78.04</td>\n",
       "    </tr>\n",
       "    <tr>\n",
       "      <th>4</th>\n",
       "      <td>23012 Munoz Drive Suite 337\\nNew Cynthia, TX 5...</td>\n",
       "      <td>20 IE</td>\n",
       "      <td>AM</td>\n",
       "      <td>Opera/9.58.(X11; Linux x86_64; it-IT) Presto/2...</td>\n",
       "      <td>Brown, Watson and Andrews</td>\n",
       "      <td>6011456623207998</td>\n",
       "      <td>10/25</td>\n",
       "      <td>678</td>\n",
       "      <td>Diners Club / Carte Blanche</td>\n",
       "      <td>christopherwright@gmail.com</td>\n",
       "      <td>Fine artist</td>\n",
       "      <td>24.140.33.94</td>\n",
       "      <td>es</td>\n",
       "      <td>77.82</td>\n",
       "    </tr>\n",
       "    <tr>\n",
       "      <th>5</th>\n",
       "      <td>7502 Powell Mission Apt. 768\\nTravisland, VA 3...</td>\n",
       "      <td>21 XT</td>\n",
       "      <td>PM</td>\n",
       "      <td>Mozilla/5.0 (Macintosh; U; PPC Mac OS X 10_8_5...</td>\n",
       "      <td>Silva-Anderson</td>\n",
       "      <td>30246185196287</td>\n",
       "      <td>07/25</td>\n",
       "      <td>7169</td>\n",
       "      <td>Discover</td>\n",
       "      <td>ynguyen@gmail.com</td>\n",
       "      <td>Fish farm manager</td>\n",
       "      <td>55.96.152.147</td>\n",
       "      <td>ru</td>\n",
       "      <td>25.15</td>\n",
       "    </tr>\n",
       "    <tr>\n",
       "      <th>6</th>\n",
       "      <td>93971 Conway Causeway\\nAndersonburgh, AZ 75107</td>\n",
       "      <td>96 Xt</td>\n",
       "      <td>AM</td>\n",
       "      <td>Mozilla/5.0 (compatible; MSIE 7.0; Windows NT ...</td>\n",
       "      <td>Gibson and Sons</td>\n",
       "      <td>6011398782655569</td>\n",
       "      <td>07/24</td>\n",
       "      <td>714</td>\n",
       "      <td>VISA 16 digit</td>\n",
       "      <td>olivia04@yahoo.com</td>\n",
       "      <td>Dancer</td>\n",
       "      <td>127.252.144.18</td>\n",
       "      <td>de</td>\n",
       "      <td>88.56</td>\n",
       "    </tr>\n",
       "    <tr>\n",
       "      <th>7</th>\n",
       "      <td>260 Rachel Plains Suite 366\\nCastroberg, WV 24...</td>\n",
       "      <td>96 pG</td>\n",
       "      <td>PM</td>\n",
       "      <td>Mozilla/5.0 (X11; Linux i686) AppleWebKit/5350...</td>\n",
       "      <td>Marshall-Collins</td>\n",
       "      <td>561252141909</td>\n",
       "      <td>06/25</td>\n",
       "      <td>256</td>\n",
       "      <td>VISA 13 digit</td>\n",
       "      <td>phillip48@parks.info</td>\n",
       "      <td>Event organiser</td>\n",
       "      <td>224.247.97.150</td>\n",
       "      <td>pt</td>\n",
       "      <td>44.25</td>\n",
       "    </tr>\n",
       "    <tr>\n",
       "      <th>8</th>\n",
       "      <td>2129 Dylan Burg\\nNew Michelle, ME 28650</td>\n",
       "      <td>45 JN</td>\n",
       "      <td>PM</td>\n",
       "      <td>Mozilla/5.0 (Macintosh; U; Intel Mac OS X 10_7...</td>\n",
       "      <td>Galloway and Sons</td>\n",
       "      <td>180041795790001</td>\n",
       "      <td>04/24</td>\n",
       "      <td>899</td>\n",
       "      <td>JCB 16 digit</td>\n",
       "      <td>kdavis@rasmussen.com</td>\n",
       "      <td>Financial manager</td>\n",
       "      <td>146.234.201.229</td>\n",
       "      <td>ru</td>\n",
       "      <td>59.54</td>\n",
       "    </tr>\n",
       "    <tr>\n",
       "      <th>9</th>\n",
       "      <td>3795 Dawson Extensions\\nLake Tinafort, ID 88739</td>\n",
       "      <td>15 Ug</td>\n",
       "      <td>AM</td>\n",
       "      <td>Mozilla/5.0 (X11; Linux i686; rv:1.9.7.20) Gec...</td>\n",
       "      <td>Rivera, Buchanan and Ramirez</td>\n",
       "      <td>4396283918371</td>\n",
       "      <td>01/17</td>\n",
       "      <td>931</td>\n",
       "      <td>American Express</td>\n",
       "      <td>qcoleman@hunt-huerta.com</td>\n",
       "      <td>Forensic scientist</td>\n",
       "      <td>236.198.199.8</td>\n",
       "      <td>zh</td>\n",
       "      <td>95.63</td>\n",
       "    </tr>\n",
       "  </tbody>\n",
       "</table>\n",
       "</div>"
      ],
      "text/plain": [
       "                                             Address    Lot AM or PM  \\\n",
       "0  16629 Pace Camp Apt. 448\\nAlexisborough, NE 77...  46 in       PM   \n",
       "1  9374 Jasmine Spurs Suite 508\\nSouth John, TN 8...  28 rn       PM   \n",
       "2                   Unit 0065 Box 5052\\nDPO AP 27450  94 vE       PM   \n",
       "3              7780 Julia Fords\\nNew Stacy, WA 45798  36 vm       PM   \n",
       "4  23012 Munoz Drive Suite 337\\nNew Cynthia, TX 5...  20 IE       AM   \n",
       "5  7502 Powell Mission Apt. 768\\nTravisland, VA 3...  21 XT       PM   \n",
       "6     93971 Conway Causeway\\nAndersonburgh, AZ 75107  96 Xt       AM   \n",
       "7  260 Rachel Plains Suite 366\\nCastroberg, WV 24...  96 pG       PM   \n",
       "8            2129 Dylan Burg\\nNew Michelle, ME 28650  45 JN       PM   \n",
       "9    3795 Dawson Extensions\\nLake Tinafort, ID 88739  15 Ug       AM   \n",
       "\n",
       "                                        Browser Info  \\\n",
       "0  Opera/9.56.(X11; Linux x86_64; sl-SI) Presto/2...   \n",
       "1  Opera/8.93.(Windows 98; Win 9x 4.90; en-US) Pr...   \n",
       "2  Mozilla/5.0 (compatible; MSIE 9.0; Windows NT ...   \n",
       "3  Mozilla/5.0 (Macintosh; Intel Mac OS X 10_8_0 ...   \n",
       "4  Opera/9.58.(X11; Linux x86_64; it-IT) Presto/2...   \n",
       "5  Mozilla/5.0 (Macintosh; U; PPC Mac OS X 10_8_5...   \n",
       "6  Mozilla/5.0 (compatible; MSIE 7.0; Windows NT ...   \n",
       "7  Mozilla/5.0 (X11; Linux i686) AppleWebKit/5350...   \n",
       "8  Mozilla/5.0 (Macintosh; U; Intel Mac OS X 10_7...   \n",
       "9  Mozilla/5.0 (X11; Linux i686; rv:1.9.7.20) Gec...   \n",
       "\n",
       "                           Company       Credit Card CC Exp Date  \\\n",
       "0                  Martinez-Herman  6011929061123406       02/20   \n",
       "1  Fletcher, Richards and Whitaker  3337758169645356       11/18   \n",
       "2       Simpson, Williams and Pham      675957666125       08/19   \n",
       "3  Williams, Marshall and Buchanan  6011578504430710       02/24   \n",
       "4        Brown, Watson and Andrews  6011456623207998       10/25   \n",
       "5                   Silva-Anderson    30246185196287       07/25   \n",
       "6                  Gibson and Sons  6011398782655569       07/24   \n",
       "7                 Marshall-Collins      561252141909       06/25   \n",
       "8                Galloway and Sons   180041795790001       04/24   \n",
       "9     Rivera, Buchanan and Ramirez     4396283918371       01/17   \n",
       "\n",
       "   CC Security Code                  CC Provider  \\\n",
       "0               900                 JCB 16 digit   \n",
       "1               561                   Mastercard   \n",
       "2               699                 JCB 16 digit   \n",
       "3               384                     Discover   \n",
       "4               678  Diners Club / Carte Blanche   \n",
       "5              7169                     Discover   \n",
       "6               714                VISA 16 digit   \n",
       "7               256                VISA 13 digit   \n",
       "8               899                 JCB 16 digit   \n",
       "9               931             American Express   \n",
       "\n",
       "                            Email                                     Job  \\\n",
       "0               pdunlap@yahoo.com  Scientist, product/process development   \n",
       "1              anthony41@reed.com                       Drilling engineer   \n",
       "2  amymiller@morales-harrison.com                Customer service manager   \n",
       "3     brent16@olson-robinson.info                       Drilling engineer   \n",
       "4     christopherwright@gmail.com                             Fine artist   \n",
       "5               ynguyen@gmail.com                       Fish farm manager   \n",
       "6              olivia04@yahoo.com                                  Dancer   \n",
       "7            phillip48@parks.info                         Event organiser   \n",
       "8            kdavis@rasmussen.com                       Financial manager   \n",
       "9        qcoleman@hunt-huerta.com                      Forensic scientist   \n",
       "\n",
       "        IP Address Language  Purchase Price  \n",
       "0  149.146.147.205       el           98.14  \n",
       "1     15.160.41.51       fr           70.73  \n",
       "2   132.207.160.22       de            0.95  \n",
       "3     30.250.74.19       es           78.04  \n",
       "4     24.140.33.94       es           77.82  \n",
       "5    55.96.152.147       ru           25.15  \n",
       "6   127.252.144.18       de           88.56  \n",
       "7   224.247.97.150       pt           44.25  \n",
       "8  146.234.201.229       ru           59.54  \n",
       "9    236.198.199.8       zh           95.63  "
      ]
     },
     "execution_count": 9,
     "metadata": {},
     "output_type": "execute_result"
    }
   ],
   "source": [
    "ecom.head(10)"
   ]
  },
  {
   "cell_type": "markdown",
   "id": "bc37c520-28d2-4791-92c7-be5435915568",
   "metadata": {},
   "source": [
    "Last 10 Rows of the Dataset"
   ]
  },
  {
   "cell_type": "code",
   "execution_count": 10,
   "id": "eb67b558-bfba-4e1d-8f7c-a72faa4e81f1",
   "metadata": {},
   "outputs": [
    {
     "data": {
      "text/html": [
       "<div>\n",
       "<style scoped>\n",
       "    .dataframe tbody tr th:only-of-type {\n",
       "        vertical-align: middle;\n",
       "    }\n",
       "\n",
       "    .dataframe tbody tr th {\n",
       "        vertical-align: top;\n",
       "    }\n",
       "\n",
       "    .dataframe thead th {\n",
       "        text-align: right;\n",
       "    }\n",
       "</style>\n",
       "<table border=\"1\" class=\"dataframe\">\n",
       "  <thead>\n",
       "    <tr style=\"text-align: right;\">\n",
       "      <th></th>\n",
       "      <th>Address</th>\n",
       "      <th>Lot</th>\n",
       "      <th>AM or PM</th>\n",
       "      <th>Browser Info</th>\n",
       "      <th>Company</th>\n",
       "      <th>Credit Card</th>\n",
       "      <th>CC Exp Date</th>\n",
       "      <th>CC Security Code</th>\n",
       "      <th>CC Provider</th>\n",
       "      <th>Email</th>\n",
       "      <th>Job</th>\n",
       "      <th>IP Address</th>\n",
       "      <th>Language</th>\n",
       "      <th>Purchase Price</th>\n",
       "    </tr>\n",
       "  </thead>\n",
       "  <tbody>\n",
       "    <tr>\n",
       "      <th>3802</th>\n",
       "      <td>0843 Bobby Port\\nGordonbury, VT 23015-8557</td>\n",
       "      <td>57 sr</td>\n",
       "      <td>AM</td>\n",
       "      <td>Mozilla/5.0 (Macintosh; U; PPC Mac OS X 10_5_4...</td>\n",
       "      <td>Cruz PLC</td>\n",
       "      <td>6011081720218290</td>\n",
       "      <td>08/19</td>\n",
       "      <td>475</td>\n",
       "      <td>JCB 16 digit</td>\n",
       "      <td>tiffanylong@alvarez-frey.com</td>\n",
       "      <td>Sales executive</td>\n",
       "      <td>238.205.226.100</td>\n",
       "      <td>it</td>\n",
       "      <td>1.30</td>\n",
       "    </tr>\n",
       "    <tr>\n",
       "      <th>3803</th>\n",
       "      <td>92679 Brown Parks\\nEast Jason, IA 85954</td>\n",
       "      <td>53 lx</td>\n",
       "      <td>AM</td>\n",
       "      <td>Mozilla/5.0 (Macintosh; PPC Mac OS X 10_8_4; r...</td>\n",
       "      <td>Ward Inc</td>\n",
       "      <td>347812781765342</td>\n",
       "      <td>11/23</td>\n",
       "      <td>724</td>\n",
       "      <td>VISA 16 digit</td>\n",
       "      <td>vickistafford@hanson.net</td>\n",
       "      <td>Fisheries officer</td>\n",
       "      <td>191.111.91.133</td>\n",
       "      <td>ru</td>\n",
       "      <td>1.20</td>\n",
       "    </tr>\n",
       "    <tr>\n",
       "      <th>3804</th>\n",
       "      <td>76678 Melissa Track\\nSnowville, MP 02252</td>\n",
       "      <td>20 HG</td>\n",
       "      <td>AM</td>\n",
       "      <td>Mozilla/5.0 (Macintosh; Intel Mac OS X 10_6_5 ...</td>\n",
       "      <td>Meyer-Howe</td>\n",
       "      <td>675940649469</td>\n",
       "      <td>01/19</td>\n",
       "      <td>209</td>\n",
       "      <td>American Express</td>\n",
       "      <td>andrew41@coffey.org</td>\n",
       "      <td>Hydrologist</td>\n",
       "      <td>152.125.105.87</td>\n",
       "      <td>it</td>\n",
       "      <td>37.53</td>\n",
       "    </tr>\n",
       "    <tr>\n",
       "      <th>3805</th>\n",
       "      <td>USNS Anderson\\nFPO AP 85662-4006</td>\n",
       "      <td>65 vG</td>\n",
       "      <td>PM</td>\n",
       "      <td>Mozilla/5.0 (Windows; U; Windows NT 5.0) Apple...</td>\n",
       "      <td>York-Baker</td>\n",
       "      <td>630486483286</td>\n",
       "      <td>03/20</td>\n",
       "      <td>992</td>\n",
       "      <td>JCB 16 digit</td>\n",
       "      <td>xryan@coffey-gordon.com</td>\n",
       "      <td>Engineer, maintenance (IT)</td>\n",
       "      <td>188.203.215.48</td>\n",
       "      <td>es</td>\n",
       "      <td>76.10</td>\n",
       "    </tr>\n",
       "    <tr>\n",
       "      <th>3806</th>\n",
       "      <td>6598 Chad Extensions\\nNorristown, TX 53321</td>\n",
       "      <td>49 GN</td>\n",
       "      <td>AM</td>\n",
       "      <td>Mozilla/5.0 (Windows; U; Windows NT 5.01) Appl...</td>\n",
       "      <td>Ho LLC</td>\n",
       "      <td>3088701630877605</td>\n",
       "      <td>10/17</td>\n",
       "      <td>865</td>\n",
       "      <td>Voyager</td>\n",
       "      <td>nspence@davis-cruz.com</td>\n",
       "      <td>Psychiatric nurse</td>\n",
       "      <td>126.220.202.8</td>\n",
       "      <td>es</td>\n",
       "      <td>29.56</td>\n",
       "    </tr>\n",
       "    <tr>\n",
       "      <th>3807</th>\n",
       "      <td>48419 James Villages\\nCharlesside, MN 05281</td>\n",
       "      <td>16 Od</td>\n",
       "      <td>PM</td>\n",
       "      <td>Mozilla/5.0 (iPod; U; CPU iPhone OS 3_0 like M...</td>\n",
       "      <td>Gray Group</td>\n",
       "      <td>3158950215096082</td>\n",
       "      <td>02/17</td>\n",
       "      <td>42</td>\n",
       "      <td>American Express</td>\n",
       "      <td>conniemyers@dixon-hoover.biz</td>\n",
       "      <td>Plant breeder/geneticist</td>\n",
       "      <td>185.183.203.158</td>\n",
       "      <td>es</td>\n",
       "      <td>70.32</td>\n",
       "    </tr>\n",
       "    <tr>\n",
       "      <th>3808</th>\n",
       "      <td>41420 Morgan Square\\nNew Sylviaton, NH 91906</td>\n",
       "      <td>04 lg</td>\n",
       "      <td>AM</td>\n",
       "      <td>Mozilla/5.0 (iPod; U; CPU iPhone OS 4_3 like M...</td>\n",
       "      <td>Sanchez-Pugh</td>\n",
       "      <td>30144466817368</td>\n",
       "      <td>02/24</td>\n",
       "      <td>660</td>\n",
       "      <td>Maestro</td>\n",
       "      <td>bradleywilliam@pineda-buchanan.com</td>\n",
       "      <td>Environmental health practitioner</td>\n",
       "      <td>20.125.230.98</td>\n",
       "      <td>pt</td>\n",
       "      <td>8.30</td>\n",
       "    </tr>\n",
       "    <tr>\n",
       "      <th>3809</th>\n",
       "      <td>308 Dixon Fords Suite 923\\nNicoleton, MH 45145</td>\n",
       "      <td>52 YN</td>\n",
       "      <td>AM</td>\n",
       "      <td>Mozilla/5.0 (Macintosh; Intel Mac OS X 10_7_8)...</td>\n",
       "      <td>Graham, Walker and Frazier</td>\n",
       "      <td>869929666344262</td>\n",
       "      <td>04/24</td>\n",
       "      <td>262</td>\n",
       "      <td>JCB 16 digit</td>\n",
       "      <td>laurengill@hotmail.com</td>\n",
       "      <td>Hotel manager</td>\n",
       "      <td>206.199.193.146</td>\n",
       "      <td>fr</td>\n",
       "      <td>3.73</td>\n",
       "    </tr>\n",
       "    <tr>\n",
       "      <th>3810</th>\n",
       "      <td>7016 Richard Center Apt. 216\\nNew Paulburgh, C...</td>\n",
       "      <td>53 WU</td>\n",
       "      <td>AM</td>\n",
       "      <td>Mozilla/5.0 (Macintosh; PPC Mac OS X 10_8_4; r...</td>\n",
       "      <td>Kim, Harris and Lee</td>\n",
       "      <td>3528700667851234</td>\n",
       "      <td>11/18</td>\n",
       "      <td>435</td>\n",
       "      <td>American Express</td>\n",
       "      <td>balljessica@yahoo.com</td>\n",
       "      <td>Engineer, communications</td>\n",
       "      <td>33.68.160.144</td>\n",
       "      <td>zh</td>\n",
       "      <td>49.73</td>\n",
       "    </tr>\n",
       "    <tr>\n",
       "      <th>3811</th>\n",
       "      <td>625 Mclaughlin Inlet Apt. 375\\nSouth Ruben, CO...</td>\n",
       "      <td>94 he</td>\n",
       "      <td>PM</td>\n",
       "      <td>Mozilla/5.0 (compatible; MSIE 9.0; Windows CE;...</td>\n",
       "      <td>Banks Group</td>\n",
       "      <td>869974335345498</td>\n",
       "      <td>01/22</td>\n",
       "      <td>457</td>\n",
       "      <td>Voyager</td>\n",
       "      <td>simmonsmelanie@gmail.com</td>\n",
       "      <td>Multimedia specialist</td>\n",
       "      <td>88.14.181.</td>\n",
       "      <td>NaN</td>\n",
       "      <td>NaN</td>\n",
       "    </tr>\n",
       "  </tbody>\n",
       "</table>\n",
       "</div>"
      ],
      "text/plain": [
       "                                                Address    Lot AM or PM  \\\n",
       "3802         0843 Bobby Port\\nGordonbury, VT 23015-8557  57 sr       AM   \n",
       "3803            92679 Brown Parks\\nEast Jason, IA 85954  53 lx       AM   \n",
       "3804           76678 Melissa Track\\nSnowville, MP 02252  20 HG       AM   \n",
       "3805                   USNS Anderson\\nFPO AP 85662-4006  65 vG       PM   \n",
       "3806         6598 Chad Extensions\\nNorristown, TX 53321  49 GN       AM   \n",
       "3807        48419 James Villages\\nCharlesside, MN 05281  16 Od       PM   \n",
       "3808       41420 Morgan Square\\nNew Sylviaton, NH 91906  04 lg       AM   \n",
       "3809     308 Dixon Fords Suite 923\\nNicoleton, MH 45145  52 YN       AM   \n",
       "3810  7016 Richard Center Apt. 216\\nNew Paulburgh, C...  53 WU       AM   \n",
       "3811  625 Mclaughlin Inlet Apt. 375\\nSouth Ruben, CO...  94 he       PM   \n",
       "\n",
       "                                           Browser Info  \\\n",
       "3802  Mozilla/5.0 (Macintosh; U; PPC Mac OS X 10_5_4...   \n",
       "3803  Mozilla/5.0 (Macintosh; PPC Mac OS X 10_8_4; r...   \n",
       "3804  Mozilla/5.0 (Macintosh; Intel Mac OS X 10_6_5 ...   \n",
       "3805  Mozilla/5.0 (Windows; U; Windows NT 5.0) Apple...   \n",
       "3806  Mozilla/5.0 (Windows; U; Windows NT 5.01) Appl...   \n",
       "3807  Mozilla/5.0 (iPod; U; CPU iPhone OS 3_0 like M...   \n",
       "3808  Mozilla/5.0 (iPod; U; CPU iPhone OS 4_3 like M...   \n",
       "3809  Mozilla/5.0 (Macintosh; Intel Mac OS X 10_7_8)...   \n",
       "3810  Mozilla/5.0 (Macintosh; PPC Mac OS X 10_8_4; r...   \n",
       "3811  Mozilla/5.0 (compatible; MSIE 9.0; Windows CE;...   \n",
       "\n",
       "                         Company       Credit Card CC Exp Date  \\\n",
       "3802                    Cruz PLC  6011081720218290       08/19   \n",
       "3803                    Ward Inc   347812781765342       11/23   \n",
       "3804                  Meyer-Howe      675940649469       01/19   \n",
       "3805                  York-Baker      630486483286       03/20   \n",
       "3806                      Ho LLC  3088701630877605       10/17   \n",
       "3807                  Gray Group  3158950215096082       02/17   \n",
       "3808                Sanchez-Pugh    30144466817368       02/24   \n",
       "3809  Graham, Walker and Frazier   869929666344262       04/24   \n",
       "3810         Kim, Harris and Lee  3528700667851234       11/18   \n",
       "3811                 Banks Group   869974335345498       01/22   \n",
       "\n",
       "      CC Security Code       CC Provider                               Email  \\\n",
       "3802               475      JCB 16 digit        tiffanylong@alvarez-frey.com   \n",
       "3803               724     VISA 16 digit            vickistafford@hanson.net   \n",
       "3804               209  American Express                 andrew41@coffey.org   \n",
       "3805               992      JCB 16 digit             xryan@coffey-gordon.com   \n",
       "3806               865           Voyager              nspence@davis-cruz.com   \n",
       "3807                42  American Express        conniemyers@dixon-hoover.biz   \n",
       "3808               660           Maestro  bradleywilliam@pineda-buchanan.com   \n",
       "3809               262      JCB 16 digit              laurengill@hotmail.com   \n",
       "3810               435  American Express               balljessica@yahoo.com   \n",
       "3811               457           Voyager            simmonsmelanie@gmail.com   \n",
       "\n",
       "                                    Job       IP Address Language  \\\n",
       "3802                    Sales executive  238.205.226.100       it   \n",
       "3803                  Fisheries officer   191.111.91.133       ru   \n",
       "3804                        Hydrologist   152.125.105.87       it   \n",
       "3805         Engineer, maintenance (IT)   188.203.215.48       es   \n",
       "3806                  Psychiatric nurse    126.220.202.8       es   \n",
       "3807           Plant breeder/geneticist  185.183.203.158       es   \n",
       "3808  Environmental health practitioner    20.125.230.98       pt   \n",
       "3809                      Hotel manager  206.199.193.146       fr   \n",
       "3810           Engineer, communications    33.68.160.144       zh   \n",
       "3811              Multimedia specialist       88.14.181.      NaN   \n",
       "\n",
       "      Purchase Price  \n",
       "3802            1.30  \n",
       "3803            1.20  \n",
       "3804           37.53  \n",
       "3805           76.10  \n",
       "3806           29.56  \n",
       "3807           70.32  \n",
       "3808            8.30  \n",
       "3809            3.73  \n",
       "3810           49.73  \n",
       "3811             NaN  "
      ]
     },
     "execution_count": 10,
     "metadata": {},
     "output_type": "execute_result"
    }
   ],
   "source": [
    "ecom.tail(10)"
   ]
  },
  {
   "cell_type": "markdown",
   "id": "8aec3d1a-e29c-4de9-b521-17e92f05d62e",
   "metadata": {},
   "source": [
    "Check Datatype of Each Column"
   ]
  },
  {
   "cell_type": "code",
   "execution_count": 12,
   "id": "03037b96-953e-4725-838c-32526cecd400",
   "metadata": {},
   "outputs": [
    {
     "data": {
      "text/plain": [
       "Address              object\n",
       "Lot                  object\n",
       "AM or PM             object\n",
       "Browser Info         object\n",
       "Company              object\n",
       "Credit Card           int64\n",
       "CC Exp Date          object\n",
       "CC Security Code      int64\n",
       "CC Provider          object\n",
       "Email                object\n",
       "Job                  object\n",
       "IP Address           object\n",
       "Language             object\n",
       "Purchase Price      float64\n",
       "dtype: object"
      ]
     },
     "execution_count": 12,
     "metadata": {},
     "output_type": "execute_result"
    }
   ],
   "source": [
    "ecom.dtypes"
   ]
  },
  {
   "cell_type": "markdown",
   "id": "9949ba02-c6d1-4345-bcbb-0dcbf15b1940",
   "metadata": {},
   "source": [
    "Check null values in the dataset"
   ]
  },
  {
   "cell_type": "code",
   "execution_count": 6,
   "id": "4c5cd2bd-dfc6-4472-97fe-aedba51db7c5",
   "metadata": {},
   "outputs": [
    {
     "data": {
      "text/plain": [
       "Address             0\n",
       "Lot                 0\n",
       "AM or PM            0\n",
       "Browser Info        0\n",
       "Company             0\n",
       "Credit Card         0\n",
       "CC Exp Date         0\n",
       "CC Security Code    0\n",
       "CC Provider         0\n",
       "Email               0\n",
       "Job                 0\n",
       "IP Address          0\n",
       "Language            1\n",
       "Purchase Price      1\n",
       "dtype: int64"
      ]
     },
     "execution_count": 6,
     "metadata": {},
     "output_type": "execute_result"
    }
   ],
   "source": [
    "ecom.isnull().sum()"
   ]
  },
  {
   "cell_type": "markdown",
   "id": "f6d6f479-e839-47de-848c-4bc82c644278",
   "metadata": {},
   "source": [
    "How many rows and columns are there in dataset?"
   ]
  },
  {
   "cell_type": "code",
   "execution_count": 13,
   "id": "3d012584-c869-4193-a0b6-885666061ba0",
   "metadata": {},
   "outputs": [
    {
     "data": {
      "text/plain": [
       "14"
      ]
     },
     "execution_count": 13,
     "metadata": {},
     "output_type": "execute_result"
    }
   ],
   "source": [
    "## To find the total columns and using len python function to find the length\n",
    "len(ecom.columns)"
   ]
  },
  {
   "cell_type": "code",
   "execution_count": 15,
   "id": "cd4ff6f4-adf5-4d65-aab6-c6a350e285b8",
   "metadata": {},
   "outputs": [
    {
     "data": {
      "text/plain": [
       "3812"
      ]
     },
     "execution_count": 15,
     "metadata": {},
     "output_type": "execute_result"
    }
   ],
   "source": [
    "## To find the total length or enteries in the dataset\n",
    "len(ecom)"
   ]
  },
  {
   "cell_type": "code",
   "execution_count": 17,
   "id": "84d2e592-fa5c-4d53-b06f-d974b2f658a1",
   "metadata": {},
   "outputs": [
    {
     "name": "stdout",
     "output_type": "stream",
     "text": [
      "<class 'pandas.core.frame.DataFrame'>\n",
      "RangeIndex: 3812 entries, 0 to 3811\n",
      "Data columns (total 14 columns):\n",
      " #   Column            Non-Null Count  Dtype  \n",
      "---  ------            --------------  -----  \n",
      " 0   Address           3812 non-null   object \n",
      " 1   Lot               3812 non-null   object \n",
      " 2   AM or PM          3812 non-null   object \n",
      " 3   Browser Info      3812 non-null   object \n",
      " 4   Company           3812 non-null   object \n",
      " 5   Credit Card       3812 non-null   int64  \n",
      " 6   CC Exp Date       3812 non-null   object \n",
      " 7   CC Security Code  3812 non-null   int64  \n",
      " 8   CC Provider       3812 non-null   object \n",
      " 9   Email             3812 non-null   object \n",
      " 10  Job               3812 non-null   object \n",
      " 11  IP Address        3812 non-null   object \n",
      " 12  Language          3811 non-null   object \n",
      " 13  Purchase Price    3811 non-null   float64\n",
      "dtypes: float64(1), int64(2), object(11)\n",
      "memory usage: 417.1+ KB\n"
     ]
    }
   ],
   "source": [
    "## To find all the information related to the dataset\n",
    "ecom.info()"
   ]
  },
  {
   "cell_type": "markdown",
   "id": "00a86108-194d-4f12-821a-e122d6ef6584",
   "metadata": {},
   "source": [
    "Highes and lowest purchase prices"
   ]
  },
  {
   "cell_type": "code",
   "execution_count": 18,
   "id": "446e89b8-9426-4a33-bc2d-939be729892b",
   "metadata": {},
   "outputs": [
    {
     "data": {
      "text/plain": [
       "Index(['Address', 'Lot', 'AM or PM', 'Browser Info', 'Company', 'Credit Card',\n",
       "       'CC Exp Date', 'CC Security Code', 'CC Provider', 'Email', 'Job',\n",
       "       'IP Address', 'Language', 'Purchase Price'],\n",
       "      dtype='object')"
      ]
     },
     "execution_count": 18,
     "metadata": {},
     "output_type": "execute_result"
    }
   ],
   "source": [
    "ecom.columns"
   ]
  },
  {
   "cell_type": "code",
   "execution_count": 20,
   "id": "215ea943-35bf-4fcc-b897-03fffdb22de4",
   "metadata": {},
   "outputs": [
    {
     "data": {
      "text/plain": [
       "99.99"
      ]
     },
     "execution_count": 20,
     "metadata": {},
     "output_type": "execute_result"
    }
   ],
   "source": [
    "ecom['Purchase Price'].max()"
   ]
  },
  {
   "cell_type": "code",
   "execution_count": 23,
   "id": "f3c334a5-a532-4dea-9e87-3cc222deef4d",
   "metadata": {},
   "outputs": [
    {
     "data": {
      "text/plain": [
       "0.0"
      ]
     },
     "execution_count": 23,
     "metadata": {},
     "output_type": "execute_result"
    }
   ],
   "source": [
    "ecom['Purchase Price'].min()"
   ]
  },
  {
   "cell_type": "markdown",
   "id": "a64ebf74-af34-4bcc-9374-23bd6aab5cfa",
   "metadata": {},
   "source": [
    "Average purchase price"
   ]
  },
  {
   "cell_type": "code",
   "execution_count": 26,
   "id": "d7f4eba6-acad-4b78-b25f-8232a9623e41",
   "metadata": {},
   "outputs": [
    {
     "data": {
      "text/plain": [
       "50.30394647074259"
      ]
     },
     "execution_count": 26,
     "metadata": {},
     "output_type": "execute_result"
    }
   ],
   "source": [
    "ecom['Purchase Price'].mean()"
   ]
  },
  {
   "cell_type": "markdown",
   "id": "65428f1e-05bc-4f5e-bf34-70aff88873a3",
   "metadata": {},
   "source": [
    "How many people have frence 'fr' as their language?"
   ]
  },
  {
   "cell_type": "code",
   "execution_count": 27,
   "id": "75020d1a-4939-411e-8c33-9c0092bdc9b4",
   "metadata": {},
   "outputs": [
    {
     "data": {
      "text/plain": [
       "Index(['Address', 'Lot', 'AM or PM', 'Browser Info', 'Company', 'Credit Card',\n",
       "       'CC Exp Date', 'CC Security Code', 'CC Provider', 'Email', 'Job',\n",
       "       'IP Address', 'Language', 'Purchase Price'],\n",
       "      dtype='object')"
      ]
     },
     "execution_count": 27,
     "metadata": {},
     "output_type": "execute_result"
    }
   ],
   "source": [
    "ecom.columns"
   ]
  },
  {
   "cell_type": "code",
   "execution_count": 39,
   "id": "012668ca-d00e-4d5f-964a-b2df3984d171",
   "metadata": {},
   "outputs": [
    {
     "data": {
      "text/plain": [
       "453"
      ]
     },
     "execution_count": 39,
     "metadata": {},
     "output_type": "execute_result"
    }
   ],
   "source": [
    "len(ecom[ecom['Language']=='fr'])"
   ]
  },
  {
   "cell_type": "code",
   "execution_count": 40,
   "id": "78d22368-322a-46c8-9e00-199e8b00fbe2",
   "metadata": {},
   "outputs": [
    {
     "data": {
      "text/plain": [
       "Address             453\n",
       "Lot                 453\n",
       "AM or PM            453\n",
       "Browser Info        453\n",
       "Company             453\n",
       "Credit Card         453\n",
       "CC Exp Date         453\n",
       "CC Security Code    453\n",
       "CC Provider         453\n",
       "Email               453\n",
       "Job                 453\n",
       "IP Address          453\n",
       "Language            453\n",
       "Purchase Price      453\n",
       "dtype: int64"
      ]
     },
     "execution_count": 40,
     "metadata": {},
     "output_type": "execute_result"
    }
   ],
   "source": [
    "ecom[ecom['Language']=='fr'].count()"
   ]
  },
  {
   "cell_type": "markdown",
   "id": "04b852b1-de93-4276-9265-3361389fe2ad",
   "metadata": {},
   "source": [
    "Job title contains engineer"
   ]
  },
  {
   "cell_type": "code",
   "execution_count": 41,
   "id": "225ed015-07f1-4b51-8691-3eca68d6480e",
   "metadata": {},
   "outputs": [
    {
     "data": {
      "text/plain": [
       "Index(['Address', 'Lot', 'AM or PM', 'Browser Info', 'Company', 'Credit Card',\n",
       "       'CC Exp Date', 'CC Security Code', 'CC Provider', 'Email', 'Job',\n",
       "       'IP Address', 'Language', 'Purchase Price'],\n",
       "      dtype='object')"
      ]
     },
     "execution_count": 41,
     "metadata": {},
     "output_type": "execute_result"
    }
   ],
   "source": [
    "ecom.columns"
   ]
  },
  {
   "cell_type": "code",
   "execution_count": 47,
   "id": "240cc1a2-25a1-415b-b229-b94395a99f15",
   "metadata": {},
   "outputs": [
    {
     "data": {
      "text/plain": [
       "389"
      ]
     },
     "execution_count": 47,
     "metadata": {},
     "output_type": "execute_result"
    }
   ],
   "source": [
    "len(ecom[ecom['Job'].str.contains('engineer', case=False)])"
   ]
  },
  {
   "cell_type": "markdown",
   "id": "85dcc637-a566-4cba-97f3-285696936f50",
   "metadata": {},
   "source": [
    "Find email of the person with the following IP address: 132.207.160.22"
   ]
  },
  {
   "cell_type": "code",
   "execution_count": 48,
   "id": "a33b6edb-9ca1-4c1d-a3e6-93ed9937bd42",
   "metadata": {},
   "outputs": [
    {
     "data": {
      "text/plain": [
       "Index(['Address', 'Lot', 'AM or PM', 'Browser Info', 'Company', 'Credit Card',\n",
       "       'CC Exp Date', 'CC Security Code', 'CC Provider', 'Email', 'Job',\n",
       "       'IP Address', 'Language', 'Purchase Price'],\n",
       "      dtype='object')"
      ]
     },
     "execution_count": 48,
     "metadata": {},
     "output_type": "execute_result"
    }
   ],
   "source": [
    "ecom.columns"
   ]
  },
  {
   "cell_type": "code",
   "execution_count": 54,
   "id": "7cf7ab92-c291-4b6c-a69d-b85976e5e962",
   "metadata": {},
   "outputs": [
    {
     "data": {
      "text/plain": [
       "2    amymiller@morales-harrison.com\n",
       "Name: Email, dtype: object"
      ]
     },
     "execution_count": 54,
     "metadata": {},
     "output_type": "execute_result"
    }
   ],
   "source": [
    "ecom[ecom['IP Address']=='132.207.160.22']['Email']"
   ]
  },
  {
   "cell_type": "markdown",
   "id": "df915cc6-8d60-4c99-93f7-152d9bf30c12",
   "metadata": {},
   "source": [
    "How many people have mastercard as their credit card provider and made a purchase above 50?"
   ]
  },
  {
   "cell_type": "code",
   "execution_count": 56,
   "id": "a522bbaa-71cf-4268-b509-85a1cd1ec114",
   "metadata": {},
   "outputs": [
    {
     "data": {
      "text/plain": [
       "Index(['Address', 'Lot', 'AM or PM', 'Browser Info', 'Company', 'Credit Card',\n",
       "       'CC Exp Date', 'CC Security Code', 'CC Provider', 'Email', 'Job',\n",
       "       'IP Address', 'Language', 'Purchase Price'],\n",
       "      dtype='object')"
      ]
     },
     "execution_count": 56,
     "metadata": {},
     "output_type": "execute_result"
    }
   ],
   "source": [
    "ecom.columns"
   ]
  },
  {
   "cell_type": "code",
   "execution_count": 73,
   "id": "3482c34c-4ecb-46aa-9fc3-d44283d69ada",
   "metadata": {},
   "outputs": [
    {
     "data": {
      "text/plain": [
       "176"
      ]
     },
     "execution_count": 73,
     "metadata": {},
     "output_type": "execute_result"
    }
   ],
   "source": [
    "len(ecom[(ecom['CC Provider'] == 'Mastercard') & (ecom['Purchase Price'] >= 50)])"
   ]
  },
  {
   "cell_type": "code",
   "execution_count": 75,
   "id": "d5d029e9-6c53-41a4-aeeb-5e325b701057",
   "metadata": {},
   "outputs": [
    {
     "data": {
      "text/plain": [
       "Address             176\n",
       "Lot                 176\n",
       "AM or PM            176\n",
       "Browser Info        176\n",
       "Company             176\n",
       "Credit Card         176\n",
       "CC Exp Date         176\n",
       "CC Security Code    176\n",
       "CC Provider         176\n",
       "Email               176\n",
       "Job                 176\n",
       "IP Address          176\n",
       "Language            176\n",
       "Purchase Price      176\n",
       "dtype: int64"
      ]
     },
     "execution_count": 75,
     "metadata": {},
     "output_type": "execute_result"
    }
   ],
   "source": [
    "ecom[(ecom['CC Provider'] == 'Mastercard') & (ecom['Purchase Price'] >= 50)].count()"
   ]
  },
  {
   "cell_type": "markdown",
   "id": "f00a6f39-bf09-4bbb-bc76-274d3ee0c31f",
   "metadata": {},
   "source": [
    "Find the email of the person with the following credit card number 869955786109277"
   ]
  },
  {
   "cell_type": "code",
   "execution_count": 76,
   "id": "150d54b7-a7c4-4825-a43a-75a0e7563f5e",
   "metadata": {},
   "outputs": [
    {
     "data": {
      "text/plain": [
       "Index(['Address', 'Lot', 'AM or PM', 'Browser Info', 'Company', 'Credit Card',\n",
       "       'CC Exp Date', 'CC Security Code', 'CC Provider', 'Email', 'Job',\n",
       "       'IP Address', 'Language', 'Purchase Price'],\n",
       "      dtype='object')"
      ]
     },
     "execution_count": 76,
     "metadata": {},
     "output_type": "execute_result"
    }
   ],
   "source": [
    "ecom.columns"
   ]
  },
  {
   "cell_type": "code",
   "execution_count": 92,
   "id": "51d3e093-a945-4f86-8c79-c846cf1a5266",
   "metadata": {},
   "outputs": [
    {
     "data": {
      "text/plain": [
       "3800    richard93@yahoo.com\n",
       "Name: Email, dtype: object"
      ]
     },
     "execution_count": 92,
     "metadata": {},
     "output_type": "execute_result"
    }
   ],
   "source": [
    "ecom[ecom['Credit Card']==869955786109277]['Email']"
   ]
  },
  {
   "cell_type": "markdown",
   "id": "7046c911-1b45-4230-ab8c-d8581ba13e58",
   "metadata": {},
   "source": [
    "How many people purchase during the AM and how many people purchase during PM?"
   ]
  },
  {
   "cell_type": "code",
   "execution_count": 93,
   "id": "0a8ef3f4-f4ff-465a-872d-b39a5fe317ac",
   "metadata": {},
   "outputs": [
    {
     "data": {
      "text/plain": [
       "Index(['Address', 'Lot', 'AM or PM', 'Browser Info', 'Company', 'Credit Card',\n",
       "       'CC Exp Date', 'CC Security Code', 'CC Provider', 'Email', 'Job',\n",
       "       'IP Address', 'Language', 'Purchase Price'],\n",
       "      dtype='object')"
      ]
     },
     "execution_count": 93,
     "metadata": {},
     "output_type": "execute_result"
    }
   ],
   "source": [
    "ecom.columns"
   ]
  },
  {
   "cell_type": "code",
   "execution_count": 96,
   "id": "897d2314-30f8-4df0-955a-c505cbe84e20",
   "metadata": {},
   "outputs": [
    {
     "data": {
      "text/plain": [
       "AM or PM\n",
       "PM    1975\n",
       "AM    1837\n",
       "Name: count, dtype: int64"
      ]
     },
     "execution_count": 96,
     "metadata": {},
     "output_type": "execute_result"
    }
   ],
   "source": [
    "ecom['AM or PM'].value_counts()"
   ]
  }
 ],
 "metadata": {
  "kernelspec": {
   "display_name": "Python 3 (ipykernel)",
   "language": "python",
   "name": "python3"
  },
  "language_info": {
   "codemirror_mode": {
    "name": "ipython",
    "version": 3
   },
   "file_extension": ".py",
   "mimetype": "text/x-python",
   "name": "python",
   "nbconvert_exporter": "python",
   "pygments_lexer": "ipython3",
   "version": "3.11.7"
  }
 },
 "nbformat": 4,
 "nbformat_minor": 5
}
